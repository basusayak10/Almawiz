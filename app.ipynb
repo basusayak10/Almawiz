{
 "metadata": {
  "language_info": {
   "codemirror_mode": {
    "name": "ipython",
    "version": 3
   },
   "file_extension": ".py",
   "mimetype": "text/x-python",
   "name": "python",
   "nbconvert_exporter": "python",
   "pygments_lexer": "ipython3",
   "version": "3.9.0-final"
  },
  "orig_nbformat": 2,
  "kernelspec": {
   "name": "python3",
   "display_name": "Python 3.9.0 64-bit",
   "metadata": {
    "interpreter": {
     "hash": "7812ea015bdcee6f23a998adcdd2ef97c151c0c241b7b7070987d9313e41299d"
    }
   }
  }
 },
 "nbformat": 4,
 "nbformat_minor": 2,
 "cells": [
  {
   "source": [
    "# Import the json from the \"data.json\" file\n",
    "import json\n",
    "# Clean the data (lowercasing, rid of -\\n, newlines (\\n)) \n",
    "# Cleaned in 2 different ways due to the nature of the Cioms Form (will be used for different methods of information extraction)\n",
    "with open('./data.json') as line1:\n",
    "    data = json.load(line1)\n",
    "with open('./data.json') as line2:\n",
    "    original = json.load(line2)\n",
    "for prop in original:\n",
    "    if '-\\n' in original[prop]:\n",
    "        original[prop] = original[prop].replace('-\\n', '')\n",
    "    if '\\n' in original[prop]:\n",
    "        original[prop] = original[prop].replace('\\n', ' ')\n",
    "for attribute in data:\n",
    "    data[attribute] = data[attribute].lower()\n",
    "    if '-\\n' in data[attribute]:\n",
    "        data[attribute] = data[attribute].replace('-\\n', '')\n",
    "    if '\\n' in data[attribute]:\n",
    "        data[attribute] = data[attribute].replace('\\n', ' ')\n",
    "    if '’s' in data[attribute]:\n",
    "        data[attribute] = data[attribute].replace('’s', '')\n",
    "data\n"
   ],
   "cell_type": "code",
   "metadata": {},
   "execution_count": 5,
   "outputs": [
    {
     "output_type": "execute_result",
     "data": {
      "text/plain": [
       "{'file_name': 'literature_300.pdf',\n",
       " 'title': 'rasmussen encephalitis presenting as progressive parietal dysfunction sans seizures',\n",
       " 'header': 'divyani garg a , ayush agarwal a , deepa dash a, ⁎ , swati mahajan b , rajesh kumar singh a , rohit bhatia a , manjari tripathi a a department of neurology, all india institute of medical sciences, new delhi, india b department of neuropathology, all india institute of medical sciences, new delhi, india article info keywords: encephalitis autoimmune rasmussen encephalitis parietal lobe apraxia hemiatrophy 1. ',\n",
       " 'abstract': ' rasmussen encephalitis (re) is a rare immune-mediated condition that classically presents in children with focal epilepsy or epilepsia partialis continua, progressive hemiplegia associated with cognitive deterioration and chronic unilateral cortical inflammation and hemiatrophy [1]. adults may have atypical manifestations including a prolonged prodromal phase, poorly defined residual period and slower progression [2]. adults have more frequent occipital lobe involvement, bilateral hemispheric involvement or presentation as temporal lobe epilepsy or movement disorders [3]. we report thefirst case of biopsyproven rasmussen encephalitis in an adult patient with progressive parietal dysfunction without seizures. ',\n",
       " 'case': ' a 29-year-old male presented with 1 1/2 years of difficulty in perceiving the shape and texture of objects with his right hand associated with numbness. he developed problems with typing without looking at the keyboard. he had inability in performing complex calculations and word-finding and sentence construction errors. three months after onset, he developed gradual right grasp weakness. over the next six months, he developed right-left confusion hampering driving. one year from onset, he developed right foot inversion while walking. all complaints were progressive. he had no headache, seizure, cognitive impairment,  myoclonus,  visual  issues,  prosopagnosia  or  systemic complaints. family history was non-revelatory. neurological examination at presentation to us 2 years from onset showed normal minimental state examination (mmse) with impaired stereognosis, graphesthesia, hylognosis and two-point discrimination over the right upper and lower limb. western aphasia battery revealed loss offluency, occasional paraphasias and impaired repetition. he performed complex written calculations slowly but accurately. he exhibited mild right upper limb (power mrc grade 4/5) and right lower limb (mrc grade 3 to 4-/5) weakness. right deep tendon reflexes were exaggerated. remaining  neurological  and  systemic  examination  was  normal. complete blood count, hepatic, renal and thyroid function were normal. hiv, hbsag and anti−hcv serology was negative. magnetic resonance imaging (mri) brain done six months apart revealed progressive atrophy hemiatrophy (fig. 1). cerebrospinalfluid (csf) showed 15 cells (all lymphocytes), protein 85 mg/dl and sugar 108 mg/dl (blood sugar 145 mg/dl). positron emission tomography (pet) brain revealed left frontoparietal hypometabolism. electroencephalography (eeg) was normal. antibodies for ana,  anca,  rheumatoid  factor,  anti-thyroid  peroxidase,  antiaquaporin 4 and anti-myelin oligodendrocyte glycoprotein, autoimmune panel (including anti-nmda, anti-vgkc, anti-gaba-a/b, antimglur5, anti-ampa, anti-gad) were negative. anti-measles antibody in csf and serum was also negative. anti-glur3 antibodies are not available at our centre and could not be sent. based on these, a provisional diagnosis of autoimmune encephalitis or  atypical  rasmussen  encephalitis  was  entertained.  he  had https://doi.org/10.1016/j.seizure.2019.08.001 received 28 june 2019; received in revised form 25 july 2019; accepted 1 august 2019 ⁎ corresponding author. e-mail address:drddash@yahoo.com(d. dash). seizure: european journal of epilepsy 71 (2019) 219–221 1059-1311/ © 2019 british epilepsy association. published by elsevier ltd. all rights reserved. t  empirically received intravenous immunoglobulins 2 g/kg over 5 days at an outside centre at onset, without improvement. he was not continued on immunomodulatory therapy. after evaluation at our centre, he was administered intravenous pulse methylprednisolone (1000 mg/ day) for 5 days followed by oral steroids (prednisolone 1 mg/kg). the patient did not give consent for brain biopsy at this time. the patient eventually consented and underwent brain biopsy three months from presentation to us from the left parietal lobe without complications. he had begun to show mild motor improvement around two months after the steroid pulse. biopsy revealed changes consistent with re (fig. 2a and b). mycophenolate mofetil was added as a steroid-sparing agent after the biopsy report and built up to 3 g per day with steroid taper, in view of steroid-related cushing syndrome. the patient continued to exhibit steady improvement and was able to write and type without difficulty at last follow-up visit one month back. 3. ',\n",
       " 'discussion': ' rasmussen encephalitis is characterised by three phases in the natural history of the disease- prodromal, acute and residual phase [4]. prodromal phase usually lasts 7 months in the pediatric population with moderate frequency of focal seizures and mild hemiparesis. acute phase involves increased seizure frequency, worsening baseline deficits along with progressive hemiatrophy, and a residual phase with static deficits, lesser seizures and marked hemiatrophy. our patient did not follow this pattern. there was no prodromal phase, and he had already seemingly entered the acute phase with worsening deficits albeit no seizures. studies suggest that these phases may last a longer period in adults than pediatric patients [2]. cerebral hemiatrophy may be broadly categorised as congenital/ acquired or progressive/ non-progressive. non-progressive causes include stroke, cranial trauma and irradiation. progressive causes suggest active disease and comprise dyke-davidoff-mason syndrome, sturgeweber syndrome, parry romberg syndrome, germinoma-associated hemiatrophy, vascular malformation, status epilepticus including hemiconvulsion-hemiplegia-epilepsy syndrome, as well as re. around 10% of re has onset in adolescence or adulthood [1]. the diagnostic criteria for re do not contain age of onset as a diagnostic requirement [4]. it is believed that the course of adult-onset cases is slower and deficits are not as severe as pediatric cases. semiology in adult-onset cases can be more characteristic of temporal lobe epilepsy. perisylvian and fronto-insular regions are the usual sites of involvement, leading to hemiparesis and hemianopia [1–4]. hemiathetosis and hemidystonia are rarely described. there is no case report with predominant parietal lobe dysfunction as the initial manifestation, making our case unique. otherwise typical progressive rasmussen encephalitis with characteristic histopathological features has been reported with delayed seizure onset, or even the absence of seizures up to 2 years [1]. such findings suggest that seizures are not an inevitable consequence of rasmussen encephalitis. however, our patient was already two years into the course of his illness without seizures. whether he is an outlier with seizures to yet develop in the course of the illness remains to be seen. despite the unique presentation of our case, the presence of progressive neurological deficits documented objectively on detailed neurological evaluation, mri showing progressive unihemispheric atrophy with t2/flair signal abnormality and biopsy features consistent with re satisfies all three of bien b criteria, enabling us to make a confident diagnosis in the absence of a typical clinical picture [ 4]. fig. 1.t2/flair mri brain (axial sections)-image (a) done at 1.5 years of illness and (b) done six months later revealed progressive left parietal and posterior frontal atrophy. fig. 2.a: neuronal loss with mild perivascular inflammation, combined with various degrees of gliosis (h&e x100). b: cd8 immunostaining reveals infiltration of cytotoxic t lymphocytes in the cortex (ihc x 100). d. garg, et al. seizure: european journal of epilepsy 71 (2019) 219–221 220  4. ',\n",
       " 'conclusion': ' our case report highlights a rare manifestation of a rare illness and adds to the growing repertoire of scientific knowledge regarding rasmussen encephalitis. the presence of progressive cognitive deficits in association with unihemispheric atrophy should strongly encourage clinicians to keep this diagnosis foremost to provide patients the benefit of immunomodulation. funding this research did not receive any specific grant from funding agencies in the public, commercial, or not-for-profit sectors. declaration of competing interest none declared '}"
      ]
     },
     "metadata": {},
     "execution_count": 5
    }
   ]
  },
  {
   "cell_type": "code",
   "execution_count": 6,
   "metadata": {},
   "outputs": [],
   "source": [
    "#Template for CIOMS Form \n",
    "# NOTE: Need more properties\n",
    "cioms_form = {\n",
    "    \"patient_initials\": \"\",\n",
    "    \"country\": \"\",\n",
    "    \"date_of_birth\": {\n",
    "        \"day\": \"\",\n",
    "        \"month\": \"\",\n",
    "        \"year\": \"\" \n",
    "    },\n",
    "    \"age_years\": \"\",\n",
    "    \"sex\": \"\",\n",
    "    \"reaction_onset\": {\n",
    "        \"day\": \"\",\n",
    "        \"month\": \"\",\n",
    "        \"year\": \"\" \n",
    "    },\n",
    "    \"reaction_description\": \"\"\n",
    "}\n"
   ]
  },
  {
   "cell_type": "code",
   "execution_count": 8,
   "metadata": {},
   "outputs": [
    {
     "output_type": "execute_result",
     "data": {
      "text/plain": [
       "{'patient_initials': '',\n",
       " 'country': 'India',\n",
       " 'date_of_birth': {'day': '', 'month': '', 'year': ''},\n",
       " 'age_years': '29',\n",
       " 'sex': 'M',\n",
       " 'reaction_onset': {'day': '', 'month': '', 'year': ''},\n",
       " 'reaction_description': 'RASMUSSEN ENCEPHALITIS (Rasmussen encephalitis (10071141), Rasmussen encephalitis (10071141))\\n\\nThis case, derived from a full text scientific literature study article, was received on\\nThis case refers to a patient who experienced the event rasmussen encephalitiswhile on therapy with \\nCase report: A 29-year-old male presented with 1 1/2 years of difficulty in perceiving the shape and texture of objects with his right hand associated with numbness. He developed problems with typing without looking at the keyboard. He had inability in performing complex calculations and word-finding and sentence construction errors. Three months after onset, he developed gradual right grasp weakness. Over the next six months, he developed right-left confusion hampering driving. One year from onset, he developed right foot inversion while walking. All complaints were progressive. He had no headache, seizure, cognitive impairment,  myoclonus,  visual  issues,  prosopagnosia  or  systemic complaints. Family history was non-revelatory. Neurological examination at presentation to us 2 years from onset showed normal minimental state examination (MMSE) with impaired stereognosis, graphesthesia, hylognosis and two-point discrimination over the right upper and lower limb. Western aphasia battery revealed loss offluency, occasional paraphasias and impaired repetition. He performed complex written calculations slowly but accurately. He exhibited mild right upper limb (power MRC grade 4/5) and right lower limb (MRC grade 3 to 4-/5) weakness. Right deep tendon reflexes were exaggerated. Remaining  neurological  and  systemic  examination  was  normal. Complete blood count, hepatic, renal and thyroid function were normal. HIV, HBsAg and Anti−HCV serology was negative. Magnetic resonance imaging (MRI) brain done six months apart revealed progressive atrophy hemiatrophy (Fig. 1). Cerebrospinalfluid (CSF) showed 15 cells (all lymphocytes), protein 85 mg/dL and sugar 108 mg/dL (blood sugar 145 mg/dL). Positron Emission Tomography (PET) brain revealed left frontoparietal hypometabolism. Electroencephalography (EEG) was normal. Antibodies for ANA,  ANCA,  Rheumatoid  factor,  anti-Thyroid  Peroxidase,  antiAquaporin 4 and anti-Myelin Oligodendrocyte Glycoprotein, autoimmune panel (including anti-NMDA, anti-VGKC, anti-GABA-A/B, antimGluR5, anti-AMPA, anti-GAD) were negative. Anti-measles antibody in CSF and serum was also negative. Anti-GluR3 antibodies are not available at our centre and could not be sent. Based on these, a provisional diagnosis of autoimmune encephalitis or  atypical  Rasmussen’s  encephalitis  was  entertained.  He  had https://doi.org/10.1016/j.seizure.2019.08.001 Received 28 June 2019; Received in revised form 25 July 2019; Accepted 1 August 2019 ⁎ Corresponding author. E-mail address:drddash@yahoo.com(D. Dash). Seizure: European Journal of Epilepsy 71 (2019) 219–221 1059-1311/ © 2019 British Epilepsy Association. Published by Elsevier Ltd. All rights reserved. T  empirically received intravenous immunoglobulins 2 g/kg over 5 days at an outside centre at onset, without improvement. He was not continued on immunomodulatory therapy. After evaluation at our centre, he was administered intravenous pulse methylprednisolone (1000 mg/ day) for 5 days followed by oral steroids (prednisolone 1 mg/kg). The patient did not give consent for brain biopsy at this time. The patient eventually consented and underwent brain biopsy three months from presentation to us from the left parietal lobe without complications. He had begun to show mild motor improvement around two months after the steroid pulse. Biopsy revealed changes consistent with RE (Fig. 2a and b). Mycophenolate mofetil was added as a steroid-sparing agent after the biopsy report and built up to 3 g per day with steroid taper, in view of steroid-related Cushing’s syndrome. The patient continued to exhibit steady improvement and was able to write and type without difficulty at last follow-up visit one month back. 3. '}"
      ]
     },
     "metadata": {},
     "execution_count": 8
    }
   ],
   "source": [
    "import re \n",
    "import pycountry\n",
    "import pandas as pd\n",
    "\n",
    "# Will use dictionary \"map\" to place disease names (str format) appearing in the JSON object as the keys and map the number of occurrences (num format) of each disease name as the value\n",
    "map = {}\n",
    "counter = 0\n",
    "# Read in the excel file containing all disease names listed in the International Council for Harmonisation of Technical Requirements for Pharmaceuticals for Human Use, MedDRA\n",
    "data_df = pd.read_excel('medra-3.xlsx', sheet_name = '23.1 IME List')\n",
    "json_str = data_df.to_json(orient = 'records')\n",
    "# Converted file into json for convenience \n",
    "# Format: {\n",
    "# MedDRA Code: Disease iD Number\n",
    "# PT Name: Disease name\n",
    "# SOC Name: Class of Disease\n",
    "# }  \n",
    "medra = json.loads(json_str)\n",
    "# Loop through json file to search for PT Name (Disease names) and keep a counter to map disease name as a key and counter as the value ONLY IF the disease name appears more than once (if counter > 0) \n",
    "for name in medra:\n",
    "    for property in data:\n",
    "        counter += data[property].count(name[\"PT Name\"].lower())\n",
    "    if counter > 0 and ' ' in name[\"PT Name\"]:\n",
    "        map[name[\"PT Name\"]] = counter\n",
    "    counter = 0\n",
    "# Find disease name associated with the highest value to obtain the disease name stated most in the text\n",
    "disease = max(map, key = map.get) \n",
    "for name in medra:\n",
    "    if name[\"PT Name\"] == disease:\n",
    "        iD = name[\"MedDRA Code\"]\n",
    "# Fill out CIOMS Form for 7+13 DESCRIBE REACTION(S) (including relevant tests/lab data)\n",
    "# NOT FULLY DONE, still need to extract data received and suspect drug\n",
    "cioms_form[\"reaction_description\"] = disease.upper() + \" (\" + disease + \" (\" + str(iD) + \")\" + \", \" + disease + \" (\" + str(iD) + \"))\" + \"\\n\\nThis case, derived from a full text scientific literature study article, was received on\" + \"\\n\" + \"This case refers to a patient who experienced the event \" + disease.lower() + \"while on therapy with \" + \"\\n\" + \"Case report:\" + original[\"case\"]\n",
    "# Fill out 1a.COUNTRY by searching for a country name in header with pycountry which provides the ISO database for countries\n",
    "for country in pycountry.countries:\n",
    "    if country.name.lower() in data[\"header\"]:\n",
    "        cioms_form[\"country\"] = country.name\n",
    "# Found the age of the patient by searching through the case report section of the case study for \"year-old\" and using a regular expression to extract age\n",
    "age = re.findall(\"\\d*-year-old\", data[\"case\"])\n",
    "ageYears = \"\"\n",
    "for num in age[0]:\n",
    "    if (num.isdigit()):\n",
    "        ageYears += num\n",
    "cioms_form[\"age_years\"] = ageYears\n",
    "# Placed general synonyms of male/female in 2 seperate sets to extract the gender of the patient\n",
    "males_set = set([\"male\", \"man\", \"gentleman\", \"boy\", \"guy\", \"gent\", \"bloke\", \"chap\", \"lad\", \"hombre\"])\n",
    "females_set = set([\"female\", \"woman\", \"lady\", \"girl\", \"colleen\", \"lass\", \"lassie\"])\n",
    "splits = data[\"case\"].split()\n",
    "for split in splits:\n",
    "    for m in males_set:\n",
    "        if m in split:\n",
    "            cioms_form[\"sex\"] = 'M'\n",
    "            break\n",
    "    for f in females_set:\n",
    "        if f in split:\n",
    "            cioms_form[\"sex\"] = 'F'\n",
    "            break\n",
    "cioms_form"
   ]
  },
  {
   "cell_type": "code",
   "execution_count": null,
   "metadata": {},
   "outputs": [],
   "source": []
  }
 ]
}